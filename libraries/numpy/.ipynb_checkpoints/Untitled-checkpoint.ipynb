{
 "cells": [
  {
   "cell_type": "markdown",
   "id": "2aadec5a",
   "metadata": {},
   "source": [
    "* NumPy is a fundamental library for numerical computing in Python. It provides support for large, multi-dimensional arrays and matrices, along with a collection of mathematical functions to operate on these arrays efficiently. NumPy is widely used in scientific computing, data analysis, machine learning, and more. "
   ]
  },
  {
   "cell_type": "markdown",
   "id": "e8b1f2ab",
   "metadata": {},
   "source": [
    "* Jupyter is an open-source web application that allows you to create and share documents containing live code, equations, visualizations, and narrative text. It supports various programming languages, including Python, R, and Julia. The name \"Jupyter\" is derived from the combination of the three programming languages it initially supported: Julia, Python, and R."
   ]
  },
  {
   "cell_type": "code",
   "execution_count": 30,
   "id": "81f717bc-08c1-4af5-a7a5-a3e676e8e301",
   "metadata": {},
   "outputs": [
    {
     "name": "stdout",
     "output_type": "stream",
     "text": [
      "Hello Lerner\n",
      "let's lern numpy with jupyter, shift+enter to next shell and execute this cell\n"
     ]
    }
   ],
   "source": [
    "import numpy as np\n",
    "print(\"Hello Lerner\")\n",
    "print(\"let's lern numpy with jupyter, shift+enter to next shell and execute this cell\")"
   ]
  },
  {
   "cell_type": "code",
   "execution_count": 31,
   "id": "b5a35240-e270-42f6-8a15-64d7eb38fd51",
   "metadata": {},
   "outputs": [
    {
     "name": "stdout",
     "output_type": "stream",
     "text": [
      "[ 1  2 33 44]\n"
     ]
    },
    {
     "data": {
      "text/plain": [
       "64"
      ]
     },
     "execution_count": 31,
     "metadata": {},
     "output_type": "execute_result"
    }
   ],
   "source": [
    "arr = np.array([1,2,33,44], np.int8)\n",
    "print(arr)\n",
    "arr.dtype\n",
    "arr[1] = 64  #updating value\n",
    "arr[1]"
   ]
  },
  {
   "cell_type": "markdown",
   "id": "5b7d8a97",
   "metadata": {},
   "source": [
    "# 1. Array creation : using python structure"
   ]
  },
  {
   "cell_type": "code",
   "execution_count": 32,
   "id": "1860ed48",
   "metadata": {},
   "outputs": [
    {
     "name": "stdout",
     "output_type": "stream",
     "text": [
      "[[  1   2   3   4]\n",
      " [ 11  22  33  44]\n",
      " [101 102  11   1]]\n",
      "int32\n",
      "12\n",
      "(3, 4)\n",
      "[[  1   2   3]\n",
      " [  4  11  22]\n",
      " [ 33  44 101]\n",
      " [102  11   1]]\n",
      "[  1   2   3   4  11  22  33  44 101 102  11   1]\n",
      "(12,)\n"
     ]
    }
   ],
   "source": [
    "listarray = np.array([[1,2,3,4],[11,22,33,44],[101,102,11,1]])\n",
    "print(listarray)\n",
    "print(listarray.dtype)\n",
    "print(listarray.size)\n",
    "print(listarray.shape)\n",
    "listarray[1,2]\n",
    "changed = listarray.reshape((4,3)) # note number of elements must be equal to previous shape\n",
    "# NumPy arrays are immutable, so the reshape function returns a new reshaped array; it doesn't modify the original array in-place.\n",
    "# so , we have to STORE further we can update the origional array\n",
    "# for direct change here : listarray = listarray.reshape((4,3))\n",
    "print(changed)\n",
    "listarray = listarray.ravel() # covert into 1d array\n",
    "print(listarray)\n",
    "print(listarray.shape)"
   ]
  },
  {
   "cell_type": "markdown",
   "id": "06f0c073",
   "metadata": {},
   "source": [
    "# 2. Array creation : using intrinsic numpy array creation"
   ]
  },
  {
   "cell_type": "code",
   "execution_count": 33,
   "id": "a9b99122",
   "metadata": {},
   "outputs": [
    {
     "name": "stdout",
     "output_type": "stream",
     "text": [
      "[[0 0 0 0]\n",
      " [0 0 0 0]\n",
      " [0 0 0 0]]\n",
      "int16\n",
      "12\n",
      "(3, 4)\n"
     ]
    }
   ],
   "source": [
    "arr = np.zeros((3,4),np.int16) # by default according to my system float 64\n",
    "print(arr)\n",
    "print(arr.dtype)\n",
    "print(arr.size)\n",
    "print(arr.shape)"
   ]
  },
  {
   "cell_type": "code",
   "execution_count": 34,
   "id": "b519de07",
   "metadata": {},
   "outputs": [
    {
     "name": "stdout",
     "output_type": "stream",
     "text": [
      "[0 1 2 3 4]\n",
      "int32\n",
      "(5,)\n",
      "[1.         1.11111111 1.22222222 1.33333333 1.44444444 1.55555556\n",
      " 1.66666667 1.77777778 1.88888889 2.        ]\n",
      "(10,)\n",
      "[[0. 0. 0. 0. 0.]\n",
      " [0. 0. 0. 0. 0.]\n",
      " [0. 0. 0. 0. 0.]]\n",
      "[1.         1.11111111 1.22222222 1.33333333 1.44444444 1.55555556\n",
      " 1.66666667 1.77777778 1.88888889 2.        ]\n",
      "[[1. 0. 0. 0. 0. 0.]\n",
      " [0. 1. 0. 0. 0. 0.]\n",
      " [0. 0. 1. 0. 0. 0.]\n",
      " [0. 0. 0. 1. 0. 0.]\n",
      " [0. 0. 0. 0. 1. 0.]\n",
      " [0. 0. 0. 0. 0. 1.]]\n",
      "(6, 6)\n",
      "float64\n"
     ]
    }
   ],
   "source": [
    "rng = np.arange(5) # same as range\n",
    "print(rng)\n",
    "print(rng.dtype)\n",
    "print(rng.shape)\n",
    "\n",
    "lspace = np.linspace(1,2,10) # (from, where, numberOfElements) with equal space\n",
    "print(lspace)\n",
    "print(lspace.shape)\n",
    "\n",
    "emp = np.empty((3,5)) #make empty array with random numbers\n",
    "print(emp)\n",
    "emp_like = np.empty_like(lspace)  # same like any pervious array\n",
    "print(emp_like)\n",
    "\n",
    "id = np.identity(6) # gives identity matrix\n",
    "print(id)\n",
    "print(id.shape)\n",
    "print(id.dtype)\n"
   ]
  },
  {
   "cell_type": "markdown",
   "id": "0523ccc5-dad0-4d4a-b35d-a118f8936a9e",
   "metadata": {},
   "source": []
  }
 ],
 "metadata": {
  "kernelspec": {
   "display_name": "Python 3 (ipykernel)",
   "language": "python",
   "name": "python3"
  },
  "language_info": {
   "codemirror_mode": {
    "name": "ipython",
    "version": 3
   },
   "file_extension": ".py",
   "mimetype": "text/x-python",
   "name": "python",
   "nbconvert_exporter": "python",
   "pygments_lexer": "ipython3",
   "version": "3.11.2"
  }
 },
 "nbformat": 4,
 "nbformat_minor": 5
}
