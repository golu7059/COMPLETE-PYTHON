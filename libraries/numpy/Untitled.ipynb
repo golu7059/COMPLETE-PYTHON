{
 "cells": [
  {
   "cell_type": "markdown",
   "id": "039bb9da",
   "metadata": {},
   "source": [
    "                                              BY : GOLU KUMAR  CSE 4A5                                                ."
   ]
  },
  {
   "cell_type": "markdown",
   "id": "2aadec5a",
   "metadata": {},
   "source": [
    "* NumPy is a fundamental library for numerical computing in Python. It provides support for large, multi-dimensional arrays and matrices, along with a collection of mathematical functions to operate on these arrays efficiently. NumPy is widely used in scientific computing, data analysis, machine learning, and more. "
   ]
  },
  {
   "cell_type": "markdown",
   "id": "e8b1f2ab",
   "metadata": {},
   "source": [
    "* Jupyter is an open-source web application that allows you to create and share documents containing live code, equations, visualizations, and narrative text. It supports various programming languages, including Python, R, and Julia. The name \"Jupyter\" is derived from the combination of the three programming languages it initially supported: Julia, Python, and R."
   ]
  },
  {
   "cell_type": "code",
   "execution_count": 2,
   "id": "81f717bc-08c1-4af5-a7a5-a3e676e8e301",
   "metadata": {},
   "outputs": [
    {
     "name": "stdout",
     "output_type": "stream",
     "text": [
      "Hello Lerner\n",
      "let's lern numpy with jupyter, shift+enter to next shell and execute this cell\n"
     ]
    }
   ],
   "source": [
    "import numpy as np\n",
    "print(\"Hello Lerner\")\n",
    "print(\"let's lern numpy with jupyter, shift+enter to next shell and execute this cell\")"
   ]
  },
  {
   "cell_type": "code",
   "execution_count": 3,
   "id": "b5a35240-e270-42f6-8a15-64d7eb38fd51",
   "metadata": {},
   "outputs": [
    {
     "name": "stdout",
     "output_type": "stream",
     "text": [
      "[ 1  2 33 44]\n"
     ]
    },
    {
     "data": {
      "text/plain": [
       "64"
      ]
     },
     "execution_count": 3,
     "metadata": {},
     "output_type": "execute_result"
    }
   ],
   "source": [
    "arr = np.array([1,2,33,44], np.int8)\n",
    "print(arr)\n",
    "arr.dtype\n",
    "arr[1] = 64  #updating value\n",
    "arr[1]"
   ]
  },
  {
   "cell_type": "markdown",
   "id": "5b7d8a97",
   "metadata": {},
   "source": [
    "# 1. Array creation : using python structure"
   ]
  },
  {
   "cell_type": "code",
   "execution_count": 4,
   "id": "1860ed48",
   "metadata": {},
   "outputs": [
    {
     "name": "stdout",
     "output_type": "stream",
     "text": [
      "[[  1   2   3   4]\n",
      " [ 11  22  33  44]\n",
      " [101 102  11   1]]\n",
      "int32\n",
      "12\n",
      "(3, 4)\n",
      "[[  1   2   3]\n",
      " [  4  11  22]\n",
      " [ 33  44 101]\n",
      " [102  11   1]]\n",
      "[  1   2   3   4  11  22  33  44 101 102  11   1]\n",
      "(12,)\n"
     ]
    }
   ],
   "source": [
    "listarray = np.array([[1,2,3,4],[11,22,33,44],[101,102,11,1]])\n",
    "print(listarray)\n",
    "print(listarray.dtype)\n",
    "print(listarray.size)\n",
    "print(listarray.shape)\n",
    "listarray[1,2]\n",
    "changed = listarray.reshape((4,3)) # note number of elements must be equal to previous shape\n",
    "# NumPy arrays are immutable, so the reshape function returns a new reshaped array; it doesn't modify the original array in-place.\n",
    "# so , we have to STORE further we can update the origional array\n",
    "# for direct change here : listarray = listarray.reshape((4,3))\n",
    "print(changed)\n",
    "listarray = listarray.ravel() # covert into 1d array\n",
    "print(listarray)\n",
    "print(listarray.shape)"
   ]
  },
  {
   "cell_type": "markdown",
   "id": "06f0c073",
   "metadata": {},
   "source": [
    "# 2. Array creation : using intrinsic numpy array creation"
   ]
  },
  {
   "cell_type": "code",
   "execution_count": 5,
   "id": "a9b99122",
   "metadata": {},
   "outputs": [
    {
     "name": "stdout",
     "output_type": "stream",
     "text": [
      "[[0 0 0 0]\n",
      " [0 0 0 0]\n",
      " [0 0 0 0]]\n",
      "int16\n",
      "12\n",
      "(3, 4)\n"
     ]
    }
   ],
   "source": [
    "arr = np.zeros((3,4),np.int16) # by default according to my system float 64\n",
    "print(arr)\n",
    "print(arr.dtype)\n",
    "print(arr.size)\n",
    "print(arr.shape)"
   ]
  },
  {
   "cell_type": "code",
   "execution_count": 6,
   "id": "b519de07",
   "metadata": {},
   "outputs": [
    {
     "name": "stdout",
     "output_type": "stream",
     "text": [
      "[0 1 2 3 4]\n",
      "int32\n",
      "(5,)\n",
      "[1.         1.11111111 1.22222222 1.33333333 1.44444444 1.55555556\n",
      " 1.66666667 1.77777778 1.88888889 2.        ]\n",
      "(10,)\n",
      "[[0. 0. 0. 0. 0.]\n",
      " [0. 0. 0. 0. 0.]\n",
      " [0. 0. 0. 0. 0.]]\n",
      "[1.         1.11111111 1.22222222 1.33333333 1.44444444 1.55555556\n",
      " 1.66666667 1.77777778 1.88888889 2.        ]\n",
      "[[1. 0. 0. 0. 0. 0.]\n",
      " [0. 1. 0. 0. 0. 0.]\n",
      " [0. 0. 1. 0. 0. 0.]\n",
      " [0. 0. 0. 1. 0. 0.]\n",
      " [0. 0. 0. 0. 1. 0.]\n",
      " [0. 0. 0. 0. 0. 1.]]\n",
      "(6, 6)\n",
      "float64\n"
     ]
    }
   ],
   "source": [
    "rng = np.arange(5) # same as range\n",
    "print(rng)\n",
    "print(rng.dtype)\n",
    "print(rng.shape)\n",
    "\n",
    "lspace = np.linspace(1,2,10) # (from, where, numberOfElements) with equal space\n",
    "print(lspace)\n",
    "print(lspace.shape)\n",
    "\n",
    "emp = np.empty((3,5)) #make empty array with random numbers\n",
    "print(emp)\n",
    "emp_like = np.empty_like(lspace)  # same like any pervious array\n",
    "print(emp_like)\n",
    "\n",
    "id = np.identity(6) # gives identity matrix\n",
    "print(id)\n",
    "print(id.shape)\n",
    "print(id.dtype)\n"
   ]
  },
  {
   "cell_type": "code",
   "execution_count": 7,
   "id": "a3b28e7a",
   "metadata": {},
   "outputs": [
    {
     "name": "stdout",
     "output_type": "stream",
     "text": [
      "[[1 2 3]\n",
      " [4 5 6]\n",
      " [7 8 9]]\n",
      "[12 15 18]\n",
      "[ 6 15 24]\n",
      "[[1 4 7]\n",
      " [2 5 8]\n",
      " [3 6 9]]\n",
      "1\n",
      "2\n",
      "3\n",
      "4\n",
      "5\n",
      "6\n",
      "7\n",
      "8\n",
      "9\n",
      "2\n",
      "9\n",
      "36\n"
     ]
    }
   ],
   "source": [
    "import numpy as np\n",
    "# numpy axis\n",
    "# 1-d array = 1 axis (example x axis)\n",
    "# 2-d array = 2 axis (example x,y axis)\n",
    "# 3-d array = 3 axis (example x,y,z axis)\n",
    "x = [[1,2,3],[4,5,6],[7,8,9]]\n",
    "ar = np.array(x)\n",
    "print(ar)\n",
    "print(ar.sum(axis=0))  # axis=0 means downward rows\n",
    "print(ar.sum(axis=1))  # axis=1 means left to right in cloumns\n",
    "\n",
    "print(ar.T)  # T means transpose of the matrix\n",
    "\n",
    "for item in ar.flat:  # .flat is used in iteration\n",
    "    print(item)\n",
    "\n",
    "print(ar.ndim)  # dimension here 2-d\n",
    "print(ar.size)  # SIZE \n",
    "print(ar.nbytes)  # memory bytes consuming\n"
   ]
  },
  {
   "cell_type": "code",
   "execution_count": 8,
   "id": "99cad7c0",
   "metadata": {},
   "outputs": [
    {
     "name": "stdout",
     "output_type": "stream",
     "text": [
      "3\n",
      "0\n",
      "[0 2 4 1 3]\n"
     ]
    }
   ],
   "source": [
    "one = np.array([1,30,4,56,7])\n",
    "print(one.argmax())  # argmax() function return index of maximum element\n",
    "print(one.argmin())  # argmin() funciton return index of minimum element\n",
    "print(one.argsort()) #  return indices of ascending order as an array\n"
   ]
  },
  {
   "cell_type": "code",
   "execution_count": 9,
   "id": "5424ac7b",
   "metadata": {},
   "outputs": [
    {
     "name": "stdout",
     "output_type": "stream",
     "text": [
      "[2 2 2]\n",
      "[2 2 2]\n",
      "[[0 0 0]\n",
      " [1 1 1]\n",
      " [2 2 2]]\n",
      "[[0 1 2]\n",
      " [0 1 2]\n",
      " [0 1 2]]\n"
     ]
    }
   ],
   "source": [
    "print(ar.argmax(axis=0)) # indices of max of axis o\n",
    "print(ar.argmax(axis=1)) # indices of max of axis 1\n",
    "print(ar.argsort(axis=0)) # indices of max of axis 0 of ascending order\n",
    "print(ar.argsort(axis=1)) # indices of max of axis 1 of ascending order\n"
   ]
  },
  {
   "cell_type": "code",
   "execution_count": 10,
   "id": "973f0293",
   "metadata": {},
   "outputs": [
    {
     "name": "stdout",
     "output_type": "stream",
     "text": [
      "[1 2 3 4 5 6 7 8 9]\n",
      "[[1]\n",
      " [2]\n",
      " [3]\n",
      " [4]\n",
      " [5]\n",
      " [6]\n",
      " [7]\n",
      " [8]\n",
      " [9]]\n"
     ]
    }
   ],
   "source": [
    "print(ar.ravel()) # in 1-d form\n",
    "print(ar.reshape(9,1)) # changing shape\n"
   ]
  },
  {
   "cell_type": "code",
   "execution_count": 11,
   "id": "8513481b",
   "metadata": {},
   "outputs": [
    {
     "name": "stdout",
     "output_type": "stream",
     "text": [
      "[[ 5  8  4]\n",
      " [ 5  6  8]\n",
      " [ 7 12 10]]\n",
      "[[ 4 12  3]\n",
      " [ 4  0  7]\n",
      " [10 27 16]]\n"
     ]
    }
   ],
   "source": [
    "a = np.array([[1,6,3],[1,0,7],[2,3,8]])\n",
    "b = np.array([[4,2,1],[4,6,1],[5,9,2]])\n",
    "print(a+b)  # addition of 2 matrix , we can't do in list it will append\n",
    "print(a*b)  # multiplication element wise\n"
   ]
  },
  {
   "cell_type": "code",
   "execution_count": 12,
   "id": "31403a30",
   "metadata": {},
   "outputs": [
    {
     "name": "stdout",
     "output_type": "stream",
     "text": [
      "31\n",
      "8\n",
      "0\n",
      "[[1.         2.44948974 1.73205081]\n",
      " [1.         0.         2.64575131]\n",
      " [1.41421356 1.73205081 2.82842712]]\n",
      "(array([2], dtype=int64), array([2], dtype=int64))\n",
      "8\n",
      "(array([0, 0, 0, 1, 1, 2, 2, 2], dtype=int64), array([0, 1, 2, 0, 2, 0, 1, 2], dtype=int64))\n",
      "\n"
     ]
    }
   ],
   "source": [
    "c = np.array([[1,6,3],[1,0,7],[2,3,8]])\n",
    "print(c.sum())  # sum of all elements\n",
    "print(c.max())  # max element\n",
    "print(c.min())  # min element\n",
    "print(np.sqrt(c)) # square root of each element of the array\n",
    "print(np.where(c>7))  # return  array tuple condition matching\n",
    "print(np.count_nonzero(a))  # return count\n",
    "print(np.nonzero(a)) # return tuple indices of nonzero elements\n",
    "print()"
   ]
  },
  {
   "cell_type": "code",
   "execution_count": 13,
   "id": "853e7726",
   "metadata": {},
   "outputs": [
    {
     "data": {
      "text/plain": [
       "112"
      ]
     },
     "execution_count": 13,
     "metadata": {},
     "output_type": "execute_result"
    }
   ],
   "source": [
    "import sys\n",
    "py_ar = [0,4,55,2]\n",
    "np_ar = np.array(py_ar)\n",
    "sys.getsizeof(1)*len(py_ar)  # space occupied by list of python array\n"
   ]
  },
  {
   "cell_type": "code",
   "execution_count": 14,
   "id": "652b458a",
   "metadata": {},
   "outputs": [
    {
     "data": {
      "text/plain": [
       "16"
      ]
     },
     "execution_count": 14,
     "metadata": {},
     "output_type": "execute_result"
    }
   ],
   "source": [
    "np_ar.itemsize*np_ar.size # space occupied by the numpy\n",
    "# this is why numpy is memory efficient . "
   ]
  },
  {
   "cell_type": "code",
   "execution_count": 15,
   "id": "fa370d52",
   "metadata": {},
   "outputs": [
    {
     "data": {
      "text/plain": [
       "[[1, 2, 3], [4, 5, 6], [7, 8, 9]]"
      ]
     },
     "execution_count": 15,
     "metadata": {},
     "output_type": "execute_result"
    }
   ],
   "source": [
    "ar.tolist() # return array into form of list"
   ]
  }
 ],
 "metadata": {
  "kernelspec": {
   "display_name": "Python 3 (ipykernel)",
   "language": "python",
   "name": "python3"
  },
  "language_info": {
   "codemirror_mode": {
    "name": "ipython",
    "version": 3
   },
   "file_extension": ".py",
   "mimetype": "text/x-python",
   "name": "python",
   "nbconvert_exporter": "python",
   "pygments_lexer": "ipython3",
   "version": "3.11.2"
  }
 },
 "nbformat": 4,
 "nbformat_minor": 5
}
