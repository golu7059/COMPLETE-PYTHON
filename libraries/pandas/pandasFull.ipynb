{
 "cells": [
  {
   "cell_type": "code",
   "execution_count": null,
   "metadata": {},
   "outputs": [],
   "source": []
  },
  {
   "cell_type": "markdown",
   "metadata": {},
   "source": [
    "# pandas"
   ]
  },
  {
   "cell_type": "markdown",
   "metadata": {},
   "source": [
    "* In Python, pandas is a powerful open-source data analysis and manipulation library. It provides data structures and functions that simplify working with structured data, such as tabular data (like spreadsheets or SQL tables). Pandas is particularly useful for tasks like data cleaning, transformation, exploration, and analysis. It's built on top of NumPy, another popular Python library for numerical computing, and it offers DataFrame objects, which are similar to tables in a database or Excel spreadsheet, along with Series objects for handling one-dimensional data. Overall, pandas is widely used in data science, machine learning, and data analysis projects due to its efficiency and ease of use."
   ]
  },
  {
   "cell_type": "markdown",
   "metadata": {},
   "source": [
    "* pandas have 2 type of data structure :\n",
    "\n",
    "          1. Series :  It's one dimension array with indexes and capable of holding any type of data ; store data in single column or row\n",
    "          2. DataFrame :  It's tebular representation ..ie .. row and columns and potentially store different type of data"
   ]
  },
  {
   "cell_type": "markdown",
   "metadata": {},
   "source": [
    "* In easy to understand , if I have a data in tabular form then entire table is 'DataFrame' , wherease each column is 'Series'"
   ]
  },
  {
   "cell_type": "code",
   "execution_count": null,
   "metadata": {},
   "outputs": [],
   "source": [
    "import numpy as np\n",
    "import pandas as pd"
   ]
  },
  {
   "cell_type": "code",
   "execution_count": null,
   "metadata": {},
   "outputs": [],
   "source": [
    "dict1 = {\n",
    "    \"name\" : [\"Aman\",\"Rishabh\",\"zishan\",\"vishal\"],\n",
    "    \"marks\" : [55,36,88,45],\n",
    "    \"city\" : [\"pune\",\"delhi\",\"agra\",\"ara\"]\n",
    "}\n",
    "df =pd.DataFrame(dict1) # in sheet or table like strucutre\n",
    "print(df)"
   ]
  },
  {
   "cell_type": "code",
   "execution_count": null,
   "metadata": {},
   "outputs": [],
   "source": [
    "df.to_csv('friends.csv') # excel sheet of above data will be downloaded"
   ]
  },
  {
   "cell_type": "code",
   "execution_count": null,
   "metadata": {},
   "outputs": [],
   "source": [
    "df.to_csv('frends_withoutIndex.csv', index=False) # no index"
   ]
  },
  {
   "cell_type": "code",
   "execution_count": null,
   "metadata": {},
   "outputs": [],
   "source": [
    "df.head(2)  # from above to display . used in large data"
   ]
  },
  {
   "cell_type": "code",
   "execution_count": null,
   "metadata": {},
   "outputs": [],
   "source": [
    "df.tail(2)  # from bottom. used in large data"
   ]
  },
  {
   "cell_type": "code",
   "execution_count": null,
   "metadata": {},
   "outputs": [],
   "source": [
    "df.describe() # for numeric columns it gives following"
   ]
  },
  {
   "cell_type": "code",
   "execution_count": null,
   "metadata": {},
   "outputs": [],
   "source": [
    "golu = pd.read_csv('golu.csv')\n",
    "print(golu)"
   ]
  },
  {
   "cell_type": "code",
   "execution_count": null,
   "metadata": {},
   "outputs": [],
   "source": [
    "golu['cities']  # give list of column"
   ]
  },
  {
   "cell_type": "code",
   "execution_count": null,
   "metadata": {},
   "outputs": [],
   "source": [
    "golu['times_visited'][2] = 1 # update agra visit to 1\n",
    "print(golu)  # let's check update\n",
    "golu.to_csv('golu.csv') # value will be update\n",
    "# here I take data from csv file and did some operations and again save"
   ]
  },
  {
   "cell_type": "code",
   "execution_count": null,
   "metadata": {},
   "outputs": [],
   "source": [
    "golu.index = [\"1st\",\"2nd\",\"3rd\",\"4th\"] # change indexing\n",
    "print(golu)\n"
   ]
  },
  {
   "cell_type": "code",
   "execution_count": null,
   "metadata": {},
   "outputs": [],
   "source": [
    "ser = pd.Series(np.random.rand(34))  # 34 columns with random values\n",
    "print(ser)\n",
    "print(type(ser))  # it will show series"
   ]
  },
  {
   "cell_type": "code",
   "execution_count": null,
   "metadata": {},
   "outputs": [],
   "source": [
    "newdf = pd.DataFrame(np.random.rand(321,10),index= np.arange(321))\n",
    "newdf.head() # for 5 from top\n",
    "newdf # for all\n",
    "type(newdf)  # output : pandas.core.frame.DataFrame\n",
    "newdf.describe()\n"
   ]
  },
  {
   "cell_type": "code",
   "execution_count": null,
   "metadata": {},
   "outputs": [],
   "source": [
    "newdf.index # all indexes\n",
    "newdf.columns # OUTPUT : RangeIndex(start=0, stop=10, step=1)\n",
    "newdf.sort_index(axis=0,ascending=False) # we can change order\n",
    "newdf.sort_index(axis=1,ascending=False) # to sort column"
   ]
  },
  {
   "cell_type": "code",
   "execution_count": null,
   "metadata": {},
   "outputs": [],
   "source": [
    "num = newdf.to_numpy()\n",
    "num"
   ]
  },
  {
   "cell_type": "code",
   "execution_count": null,
   "metadata": {},
   "outputs": [],
   "source": [
    "newdf.T # getting transpose of matrix"
   ]
  },
  {
   "cell_type": "code",
   "execution_count": null,
   "metadata": {},
   "outputs": [],
   "source": [
    "newdf[0]\n",
    "type(newdf[0]) # series "
   ]
  },
  {
   "cell_type": "code",
   "execution_count": null,
   "metadata": {},
   "outputs": [],
   "source": [
    "newdf2 = newdf\n",
    "newdf2[0][0]=8999\n",
    "newdf     # above view is created . so if you change in newdf2 then values of newdf will also be changed"
   ]
  },
  {
   "cell_type": "code",
   "execution_count": null,
   "metadata": {},
   "outputs": [],
   "source": [
    "newdf3 = newdf.copy() # here copy created \n",
    "newdf3[0][0]=1212\n",
    "newdf    # change in newdf3 will not change in newdf"
   ]
  },
  {
   "cell_type": "code",
   "execution_count": null,
   "metadata": {},
   "outputs": [],
   "source": [
    "newdf.loc[0][0] = 1  # best way to update\n",
    "newdf.head(2)"
   ]
  },
  {
   "cell_type": "code",
   "execution_count": null,
   "metadata": {},
   "outputs": [],
   "source": [
    "newdf.drop(5, axis=1) # column name with 5 will be deleted\n"
   ]
  },
  {
   "cell_type": "code",
   "execution_count": null,
   "metadata": {},
   "outputs": [],
   "source": [
    "newdf.columns= list(\"ABCDEFGHIJ\")  # changing columns\n",
    "newdf.head(2)\n",
    "newdf.drop(['E','F','G','H','I','J'],axis=1) # delete multiple columns\n",
    "short = newdf.loc[[1,2,3],['C','D']]  # get specific rows and columns and store\n",
    "newdf.loc[[1,2],:]  # specific rows but all columns\n"
   ]
  },
  {
   "cell_type": "code",
   "execution_count": null,
   "metadata": {},
   "outputs": [],
   "source": [
    "newdf.loc[(newdf['A']<0.3) & (newdf['C']>0.1)]  # it will those data who match given conditions\n"
   ]
  },
  {
   "cell_type": "code",
   "execution_count": null,
   "metadata": {},
   "outputs": [],
   "source": [
    "newdf.iloc[0,4]   # iloc works as indexing like in matrix system wherease loc work according to name of rows and columns\n",
    "newdf.iloc[[0,1],[5,2]]"
   ]
  },
  {
   "cell_type": "code",
   "execution_count": null,
   "metadata": {},
   "outputs": [],
   "source": [
    "newdf.drop([3]) # deleting rows\n",
    "newdf = newdf.drop([5,6,7]) # actual data will be changed\n",
    "newdf"
   ]
  },
  {
   "cell_type": "code",
   "execution_count": 85,
   "metadata": {},
   "outputs": [
    {
     "data": {
      "text/html": [
       "<div>\n",
       "<style scoped>\n",
       "    .dataframe tbody tr th:only-of-type {\n",
       "        vertical-align: middle;\n",
       "    }\n",
       "\n",
       "    .dataframe tbody tr th {\n",
       "        vertical-align: top;\n",
       "    }\n",
       "\n",
       "    .dataframe thead th {\n",
       "        text-align: right;\n",
       "    }\n",
       "</style>\n",
       "<table border=\"1\" class=\"dataframe\">\n",
       "  <thead>\n",
       "    <tr style=\"text-align: right;\">\n",
       "      <th></th>\n",
       "      <th>C</th>\n",
       "      <th>E</th>\n",
       "      <th>F</th>\n",
       "      <th>G</th>\n",
       "      <th>H</th>\n",
       "      <th>I</th>\n",
       "      <th>J</th>\n",
       "    </tr>\n",
       "  </thead>\n",
       "  <tbody>\n",
       "    <tr>\n",
       "      <th>3</th>\n",
       "      <td>0.883073</td>\n",
       "      <td>0.038829</td>\n",
       "      <td>0.608673</td>\n",
       "      <td>0.392078</td>\n",
       "      <td>0.344019</td>\n",
       "      <td>0.212547</td>\n",
       "      <td>0.239365</td>\n",
       "    </tr>\n",
       "    <tr>\n",
       "      <th>4</th>\n",
       "      <td>0.460945</td>\n",
       "      <td>0.901040</td>\n",
       "      <td>0.767838</td>\n",
       "      <td>0.530728</td>\n",
       "      <td>0.390078</td>\n",
       "      <td>0.022967</td>\n",
       "      <td>0.069691</td>\n",
       "    </tr>\n",
       "    <tr>\n",
       "      <th>9</th>\n",
       "      <td>0.163455</td>\n",
       "      <td>0.792337</td>\n",
       "      <td>0.312792</td>\n",
       "      <td>0.484542</td>\n",
       "      <td>0.567314</td>\n",
       "      <td>0.399701</td>\n",
       "      <td>0.638447</td>\n",
       "    </tr>\n",
       "  </tbody>\n",
       "</table>\n",
       "</div>"
      ],
      "text/plain": [
       "          C         E         F         G         H         I         J\n",
       "3  0.883073  0.038829  0.608673  0.392078  0.344019  0.212547  0.239365\n",
       "4  0.460945  0.901040  0.767838  0.530728  0.390078  0.022967  0.069691\n",
       "9  0.163455  0.792337  0.312792  0.484542  0.567314  0.399701  0.638447"
      ]
     },
     "execution_count": 85,
     "metadata": {},
     "output_type": "execute_result"
    }
   ],
   "source": [
    "newdf.drop(['B','D'],axis=1, inplace=True) # it will also change origional data\n",
    "newdf.head(3)"
   ]
  },
  {
   "cell_type": "code",
   "execution_count": 88,
   "metadata": {},
   "outputs": [
    {
     "data": {
      "text/html": [
       "<div>\n",
       "<style scoped>\n",
       "    .dataframe tbody tr th:only-of-type {\n",
       "        vertical-align: middle;\n",
       "    }\n",
       "\n",
       "    .dataframe tbody tr th {\n",
       "        vertical-align: top;\n",
       "    }\n",
       "\n",
       "    .dataframe thead th {\n",
       "        text-align: right;\n",
       "    }\n",
       "</style>\n",
       "<table border=\"1\" class=\"dataframe\">\n",
       "  <thead>\n",
       "    <tr style=\"text-align: right;\">\n",
       "      <th></th>\n",
       "      <th>C</th>\n",
       "      <th>E</th>\n",
       "      <th>F</th>\n",
       "      <th>G</th>\n",
       "      <th>H</th>\n",
       "      <th>I</th>\n",
       "      <th>J</th>\n",
       "    </tr>\n",
       "  </thead>\n",
       "  <tbody>\n",
       "    <tr>\n",
       "      <th>3</th>\n",
       "      <td>0.883073</td>\n",
       "      <td>0.038829</td>\n",
       "      <td>0.608673</td>\n",
       "      <td>0.392078</td>\n",
       "      <td>0.344019</td>\n",
       "      <td>0.212547</td>\n",
       "      <td>0.239365</td>\n",
       "    </tr>\n",
       "    <tr>\n",
       "      <th>4</th>\n",
       "      <td>0.460945</td>\n",
       "      <td>0.901040</td>\n",
       "      <td>0.767838</td>\n",
       "      <td>0.530728</td>\n",
       "      <td>0.390078</td>\n",
       "      <td>0.022967</td>\n",
       "      <td>0.069691</td>\n",
       "    </tr>\n",
       "    <tr>\n",
       "      <th>9</th>\n",
       "      <td>0.163455</td>\n",
       "      <td>0.792337</td>\n",
       "      <td>0.312792</td>\n",
       "      <td>0.484542</td>\n",
       "      <td>0.567314</td>\n",
       "      <td>0.399701</td>\n",
       "      <td>0.638447</td>\n",
       "    </tr>\n",
       "  </tbody>\n",
       "</table>\n",
       "</div>"
      ],
      "text/plain": [
       "          C         E         F         G         H         I         J\n",
       "3  0.883073  0.038829  0.608673  0.392078  0.344019  0.212547  0.239365\n",
       "4  0.460945  0.901040  0.767838  0.530728  0.390078  0.022967  0.069691\n",
       "9  0.163455  0.792337  0.312792  0.484542  0.567314  0.399701  0.638447"
      ]
     },
     "execution_count": 88,
     "metadata": {},
     "output_type": "execute_result"
    }
   ],
   "source": [
    "newdf.reset_index() # rearrange index after deleting rows but it will add extra column index\n",
    "newdf.reset_index(drop=True) # this will not add extra index column\n",
    "newdf.head(3)"
   ]
  },
  {
   "cell_type": "code",
   "execution_count": 89,
   "metadata": {},
   "outputs": [
    {
     "data": {
      "text/plain": [
       "3      False\n",
       "4      False\n",
       "9      False\n",
       "10     False\n",
       "11     False\n",
       "       ...  \n",
       "316    False\n",
       "317    False\n",
       "318    False\n",
       "319    False\n",
       "320    False\n",
       "Name: E, Length: 314, dtype: bool"
      ]
     },
     "execution_count": 89,
     "metadata": {},
     "output_type": "execute_result"
    }
   ],
   "source": [
    "newdf['E'].isnull()  # return boolean for all rows"
   ]
  },
  {
   "cell_type": "code",
   "execution_count": 92,
   "metadata": {},
   "outputs": [
    {
     "data": {
      "text/plain": [
       "3      True\n",
       "4      True\n",
       "9      True\n",
       "10     True\n",
       "11     True\n",
       "       ... \n",
       "316    True\n",
       "317    True\n",
       "318    True\n",
       "319    True\n",
       "320    True\n",
       "Name: E, Length: 314, dtype: bool"
      ]
     },
     "execution_count": 92,
     "metadata": {},
     "output_type": "execute_result"
    }
   ],
   "source": [
    "newdf['E'] = None  # set all E as none\n",
    "newdf\n",
    "newdf['E'].isnull()   # now it will give true\n"
   ]
  },
  {
   "cell_type": "code",
   "execution_count": 94,
   "metadata": {},
   "outputs": [
    {
     "data": {
      "text/html": [
       "<div>\n",
       "<style scoped>\n",
       "    .dataframe tbody tr th:only-of-type {\n",
       "        vertical-align: middle;\n",
       "    }\n",
       "\n",
       "    .dataframe tbody tr th {\n",
       "        vertical-align: top;\n",
       "    }\n",
       "\n",
       "    .dataframe thead th {\n",
       "        text-align: right;\n",
       "    }\n",
       "</style>\n",
       "<table border=\"1\" class=\"dataframe\">\n",
       "  <thead>\n",
       "    <tr style=\"text-align: right;\">\n",
       "      <th></th>\n",
       "      <th>C</th>\n",
       "      <th>E</th>\n",
       "      <th>F</th>\n",
       "      <th>G</th>\n",
       "      <th>H</th>\n",
       "      <th>I</th>\n",
       "      <th>J</th>\n",
       "      <th>B</th>\n",
       "    </tr>\n",
       "  </thead>\n",
       "  <tbody>\n",
       "    <tr>\n",
       "      <th>3</th>\n",
       "      <td>0.883073</td>\n",
       "      <td>55</td>\n",
       "      <td>0.608673</td>\n",
       "      <td>0.392078</td>\n",
       "      <td>0.344019</td>\n",
       "      <td>0.212547</td>\n",
       "      <td>0.239365</td>\n",
       "      <td>55</td>\n",
       "    </tr>\n",
       "    <tr>\n",
       "      <th>4</th>\n",
       "      <td>0.460945</td>\n",
       "      <td>55</td>\n",
       "      <td>0.767838</td>\n",
       "      <td>0.530728</td>\n",
       "      <td>0.390078</td>\n",
       "      <td>0.022967</td>\n",
       "      <td>0.069691</td>\n",
       "      <td>55</td>\n",
       "    </tr>\n",
       "    <tr>\n",
       "      <th>9</th>\n",
       "      <td>0.163455</td>\n",
       "      <td>55</td>\n",
       "      <td>0.312792</td>\n",
       "      <td>0.484542</td>\n",
       "      <td>0.567314</td>\n",
       "      <td>0.399701</td>\n",
       "      <td>0.638447</td>\n",
       "      <td>55</td>\n",
       "    </tr>\n",
       "    <tr>\n",
       "      <th>10</th>\n",
       "      <td>0.662038</td>\n",
       "      <td>55</td>\n",
       "      <td>0.797136</td>\n",
       "      <td>0.110605</td>\n",
       "      <td>0.624113</td>\n",
       "      <td>0.215261</td>\n",
       "      <td>0.907962</td>\n",
       "      <td>55</td>\n",
       "    </tr>\n",
       "    <tr>\n",
       "      <th>11</th>\n",
       "      <td>0.762743</td>\n",
       "      <td>55</td>\n",
       "      <td>0.075870</td>\n",
       "      <td>0.842896</td>\n",
       "      <td>0.776503</td>\n",
       "      <td>0.238678</td>\n",
       "      <td>0.545212</td>\n",
       "      <td>55</td>\n",
       "    </tr>\n",
       "    <tr>\n",
       "      <th>...</th>\n",
       "      <td>...</td>\n",
       "      <td>...</td>\n",
       "      <td>...</td>\n",
       "      <td>...</td>\n",
       "      <td>...</td>\n",
       "      <td>...</td>\n",
       "      <td>...</td>\n",
       "      <td>...</td>\n",
       "    </tr>\n",
       "    <tr>\n",
       "      <th>316</th>\n",
       "      <td>0.198143</td>\n",
       "      <td>55</td>\n",
       "      <td>0.834268</td>\n",
       "      <td>0.586076</td>\n",
       "      <td>0.774410</td>\n",
       "      <td>0.543846</td>\n",
       "      <td>0.988820</td>\n",
       "      <td>55</td>\n",
       "    </tr>\n",
       "    <tr>\n",
       "      <th>317</th>\n",
       "      <td>0.627221</td>\n",
       "      <td>55</td>\n",
       "      <td>0.021080</td>\n",
       "      <td>0.471327</td>\n",
       "      <td>0.693525</td>\n",
       "      <td>0.915632</td>\n",
       "      <td>0.981145</td>\n",
       "      <td>55</td>\n",
       "    </tr>\n",
       "    <tr>\n",
       "      <th>318</th>\n",
       "      <td>0.236349</td>\n",
       "      <td>55</td>\n",
       "      <td>0.555437</td>\n",
       "      <td>0.027852</td>\n",
       "      <td>0.871600</td>\n",
       "      <td>0.815826</td>\n",
       "      <td>0.154134</td>\n",
       "      <td>55</td>\n",
       "    </tr>\n",
       "    <tr>\n",
       "      <th>319</th>\n",
       "      <td>0.346831</td>\n",
       "      <td>55</td>\n",
       "      <td>0.195754</td>\n",
       "      <td>0.448333</td>\n",
       "      <td>0.495176</td>\n",
       "      <td>0.956953</td>\n",
       "      <td>0.554416</td>\n",
       "      <td>55</td>\n",
       "    </tr>\n",
       "    <tr>\n",
       "      <th>320</th>\n",
       "      <td>0.449640</td>\n",
       "      <td>55</td>\n",
       "      <td>0.576854</td>\n",
       "      <td>0.137856</td>\n",
       "      <td>0.773864</td>\n",
       "      <td>0.749485</td>\n",
       "      <td>0.906485</td>\n",
       "      <td>55</td>\n",
       "    </tr>\n",
       "  </tbody>\n",
       "</table>\n",
       "<p>314 rows × 8 columns</p>\n",
       "</div>"
      ],
      "text/plain": [
       "            C   E         F         G         H         I         J   B\n",
       "3    0.883073  55  0.608673  0.392078  0.344019  0.212547  0.239365  55\n",
       "4    0.460945  55  0.767838  0.530728  0.390078  0.022967  0.069691  55\n",
       "9    0.163455  55  0.312792  0.484542  0.567314  0.399701  0.638447  55\n",
       "10   0.662038  55  0.797136  0.110605  0.624113  0.215261  0.907962  55\n",
       "11   0.762743  55  0.075870  0.842896  0.776503  0.238678  0.545212  55\n",
       "..        ...  ..       ...       ...       ...       ...       ...  ..\n",
       "316  0.198143  55  0.834268  0.586076  0.774410  0.543846  0.988820  55\n",
       "317  0.627221  55  0.021080  0.471327  0.693525  0.915632  0.981145  55\n",
       "318  0.236349  55  0.555437  0.027852  0.871600  0.815826  0.154134  55\n",
       "319  0.346831  55  0.195754  0.448333  0.495176  0.956953  0.554416  55\n",
       "320  0.449640  55  0.576854  0.137856  0.773864  0.749485  0.906485  55\n",
       "\n",
       "[314 rows x 8 columns]"
      ]
     },
     "execution_count": 94,
     "metadata": {},
     "output_type": "execute_result"
    }
   ],
   "source": [
    "newdf.loc[:,['E']] = 55  # loc is the better way to update\n",
    "newdf"
   ]
  },
  {
   "cell_type": "code",
   "execution_count": 96,
   "metadata": {},
   "outputs": [
    {
     "data": {
      "text/html": [
       "<div>\n",
       "<style scoped>\n",
       "    .dataframe tbody tr th:only-of-type {\n",
       "        vertical-align: middle;\n",
       "    }\n",
       "\n",
       "    .dataframe tbody tr th {\n",
       "        vertical-align: top;\n",
       "    }\n",
       "\n",
       "    .dataframe thead th {\n",
       "        text-align: right;\n",
       "    }\n",
       "</style>\n",
       "<table border=\"1\" class=\"dataframe\">\n",
       "  <thead>\n",
       "    <tr style=\"text-align: right;\">\n",
       "      <th></th>\n",
       "      <th>name</th>\n",
       "      <th>toy</th>\n",
       "      <th>born</th>\n",
       "    </tr>\n",
       "  </thead>\n",
       "  <tbody>\n",
       "    <tr>\n",
       "      <th>0</th>\n",
       "      <td>Alfred</td>\n",
       "      <td>NaN</td>\n",
       "      <td>NaT</td>\n",
       "    </tr>\n",
       "    <tr>\n",
       "      <th>1</th>\n",
       "      <td>Batman</td>\n",
       "      <td>Batmobile</td>\n",
       "      <td>1940-04-25</td>\n",
       "    </tr>\n",
       "    <tr>\n",
       "      <th>2</th>\n",
       "      <td>Catwoman</td>\n",
       "      <td>Bullwhip</td>\n",
       "      <td>NaT</td>\n",
       "    </tr>\n",
       "  </tbody>\n",
       "</table>\n",
       "</div>"
      ],
      "text/plain": [
       "       name        toy       born\n",
       "0    Alfred        NaN        NaT\n",
       "1    Batman  Batmobile 1940-04-25\n",
       "2  Catwoman   Bullwhip        NaT"
      ]
     },
     "execution_count": 96,
     "metadata": {},
     "output_type": "execute_result"
    }
   ],
   "source": [
    "df = pd.DataFrame({\"name\": ['Alfred', 'Batman', 'Catwoman'],\n",
    "                   \"toy\": [np.nan, 'Batmobile', 'Bullwhip'],\n",
    "                   \"born\": [pd.NaT, pd.Timestamp(\"1940-04-25\"),\n",
    "                            pd.NaT]})\n",
    "df.head()"
   ]
  },
  {
   "cell_type": "code",
   "execution_count": 102,
   "metadata": {},
   "outputs": [
    {
     "data": {
      "text/html": [
       "<div>\n",
       "<style scoped>\n",
       "    .dataframe tbody tr th:only-of-type {\n",
       "        vertical-align: middle;\n",
       "    }\n",
       "\n",
       "    .dataframe tbody tr th {\n",
       "        vertical-align: top;\n",
       "    }\n",
       "\n",
       "    .dataframe thead th {\n",
       "        text-align: right;\n",
       "    }\n",
       "</style>\n",
       "<table border=\"1\" class=\"dataframe\">\n",
       "  <thead>\n",
       "    <tr style=\"text-align: right;\">\n",
       "      <th></th>\n",
       "      <th>name</th>\n",
       "      <th>toy</th>\n",
       "      <th>born</th>\n",
       "    </tr>\n",
       "  </thead>\n",
       "  <tbody>\n",
       "    <tr>\n",
       "      <th>1</th>\n",
       "      <td>Batman</td>\n",
       "      <td>Batmobile</td>\n",
       "      <td>1940-04-25</td>\n",
       "    </tr>\n",
       "  </tbody>\n",
       "</table>\n",
       "</div>"
      ],
      "text/plain": [
       "     name        toy       born\n",
       "1  Batman  Batmobile 1940-04-25"
      ]
     },
     "execution_count": 102,
     "metadata": {},
     "output_type": "execute_result"
    }
   ],
   "source": [
    "df.dropna() # to drop na values\n",
    "# df = df.dropna() # to change in origional data\n",
    "df"
   ]
  },
  {
   "cell_type": "code",
   "execution_count": 101,
   "metadata": {},
   "outputs": [
    {
     "data": {
      "text/html": [
       "<div>\n",
       "<style scoped>\n",
       "    .dataframe tbody tr th:only-of-type {\n",
       "        vertical-align: middle;\n",
       "    }\n",
       "\n",
       "    .dataframe tbody tr th {\n",
       "        vertical-align: top;\n",
       "    }\n",
       "\n",
       "    .dataframe thead th {\n",
       "        text-align: right;\n",
       "    }\n",
       "</style>\n",
       "<table border=\"1\" class=\"dataframe\">\n",
       "  <thead>\n",
       "    <tr style=\"text-align: right;\">\n",
       "      <th></th>\n",
       "      <th>name</th>\n",
       "      <th>toy</th>\n",
       "      <th>born</th>\n",
       "    </tr>\n",
       "  </thead>\n",
       "  <tbody>\n",
       "    <tr>\n",
       "      <th>1</th>\n",
       "      <td>Batman</td>\n",
       "      <td>Batmobile</td>\n",
       "      <td>1940-04-25</td>\n",
       "    </tr>\n",
       "  </tbody>\n",
       "</table>\n",
       "</div>"
      ],
      "text/plain": [
       "     name        toy       born\n",
       "1  Batman  Batmobile 1940-04-25"
      ]
     },
     "execution_count": 101,
     "metadata": {},
     "output_type": "execute_result"
    }
   ],
   "source": [
    "df.dropna(axis='columns')"
   ]
  },
  {
   "cell_type": "code",
   "execution_count": null,
   "metadata": {},
   "outputs": [],
   "source": []
  }
 ],
 "metadata": {
  "kernelspec": {
   "display_name": "Python 3",
   "language": "python",
   "name": "python3"
  },
  "language_info": {
   "codemirror_mode": {
    "name": "ipython",
    "version": 3
   },
   "file_extension": ".py",
   "mimetype": "text/x-python",
   "name": "python",
   "nbconvert_exporter": "python",
   "pygments_lexer": "ipython3",
   "version": "3.11.2"
  }
 },
 "nbformat": 4,
 "nbformat_minor": 2
}
