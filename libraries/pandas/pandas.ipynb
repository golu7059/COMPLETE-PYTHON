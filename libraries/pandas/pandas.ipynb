{
 "cells": [
  {
   "cell_type": "markdown",
   "metadata": {},
   "source": [
    "# pandas"
   ]
  },
  {
   "cell_type": "markdown",
   "metadata": {},
   "source": [
    "* In Python, pandas is a powerful open-source data analysis and manipulation library. It provides data structures and functions that simplify working with structured data, such as tabular data (like spreadsheets or SQL tables). Pandas is particularly useful for tasks like data cleaning, transformation, exploration, and analysis. It's built on top of NumPy, another popular Python library for numerical computing, and it offers DataFrame objects, which are similar to tables in a database or Excel spreadsheet, along with Series objects for handling one-dimensional data. Overall, pandas is widely used in data science, machine learning, and data analysis projects due to its efficiency and ease of use."
   ]
  },
  {
   "cell_type": "markdown",
   "metadata": {},
   "source": [
    "* pandas have 2 type of data structure :\n",
    "\n",
    "          1. Series :  It's one dimension array with indexes and capable of holding any type of data ; store data in single column or row\n",
    "          2. DataFrame :  It's tebular representation ..ie .. row and columns and potentially store different type of data"
   ]
  },
  {
   "cell_type": "markdown",
   "metadata": {},
   "source": [
    "* In easy to understand , if I have a data in tabular form then entire table is 'DataFrame' , wherease each column is 'Series'"
   ]
  },
  {
   "cell_type": "code",
   "execution_count": null,
   "metadata": {},
   "outputs": [],
   "source": [
    "import numpy as np\n",
    "import pandas as pd"
   ]
  },
  {
   "cell_type": "code",
   "execution_count": null,
   "metadata": {},
   "outputs": [],
   "source": [
    "dict1 = {\n",
    "    \"name\" : [\"Aman\",\"Rishabh\",\"zishan\",\"vishal\"],\n",
    "    \"marks\" : [55,36,88,45],\n",
    "    \"city\" : [\"pune\",\"delhi\",\"agra\",\"ara\"]\n",
    "}\n",
    "df =pd.DataFrame(dict1) # in sheet or table like strucutre\n",
    "print(df)"
   ]
  },
  {
   "cell_type": "code",
   "execution_count": null,
   "metadata": {},
   "outputs": [],
   "source": [
    "df.to_csv('friends.csv') # excel sheet of above data will be downloaded"
   ]
  },
  {
   "cell_type": "code",
   "execution_count": null,
   "metadata": {},
   "outputs": [],
   "source": [
    "df.to_csv('frends_withoutIndex.csv', index=False) # no index"
   ]
  },
  {
   "cell_type": "code",
   "execution_count": null,
   "metadata": {},
   "outputs": [],
   "source": [
    "df.head(2)  # from above to display . used in large data"
   ]
  },
  {
   "cell_type": "code",
   "execution_count": null,
   "metadata": {},
   "outputs": [],
   "source": [
    "df.tail(2)  # from bottom. used in large data"
   ]
  },
  {
   "cell_type": "code",
   "execution_count": null,
   "metadata": {},
   "outputs": [],
   "source": [
    "df.describe() # for numeric columns it gives following"
   ]
  },
  {
   "cell_type": "code",
   "execution_count": null,
   "metadata": {},
   "outputs": [],
   "source": [
    "golu = pd.read_csv('golu.csv')\n",
    "print(golu)"
   ]
  },
  {
   "cell_type": "code",
   "execution_count": null,
   "metadata": {},
   "outputs": [],
   "source": [
    "golu['cities']  # give list of column"
   ]
  },
  {
   "cell_type": "code",
   "execution_count": null,
   "metadata": {},
   "outputs": [],
   "source": [
    "golu['times_visited'][2] = 1 # update agra visit to 1\n",
    "print(golu)  # let's check update\n",
    "golu.to_csv('golu.csv') # value will be update\n",
    "# here I take data from csv file and did some operations and again save"
   ]
  },
  {
   "cell_type": "code",
   "execution_count": null,
   "metadata": {},
   "outputs": [],
   "source": [
    "golu.index = [\"1st\",\"2nd\",\"3rd\",\"4th\"] # change indexing\n",
    "print(golu)\n"
   ]
  },
  {
   "cell_type": "code",
   "execution_count": null,
   "metadata": {},
   "outputs": [],
   "source": [
    "ser = pd.Series(np.random.rand(34))  # 34 columns with random values\n",
    "print(ser)\n",
    "print(type(ser))  # it will show series"
   ]
  },
  {
   "cell_type": "code",
   "execution_count": null,
   "metadata": {},
   "outputs": [],
   "source": [
    "newdf = pd.DataFrame(np.random.rand(321,10),index= np.arange(321))\n",
    "newdf.head() # for 5 from top\n",
    "newdf # for all\n",
    "type(newdf)  # output : pandas.core.frame.DataFrame\n",
    "newdf.describe()\n"
   ]
  },
  {
   "cell_type": "code",
   "execution_count": null,
   "metadata": {},
   "outputs": [],
   "source": [
    "newdf.index # all indexes\n",
    "newdf.columns # OUTPUT : RangeIndex(start=0, stop=10, step=1)\n",
    "newdf.sort_index(axis=0,ascending=False) # we can change order\n",
    "newdf.sort_index(axis=1,ascending=False) # to sort column"
   ]
  },
  {
   "cell_type": "code",
   "execution_count": null,
   "metadata": {},
   "outputs": [],
   "source": [
    "num = newdf.to_numpy()\n",
    "num"
   ]
  },
  {
   "cell_type": "code",
   "execution_count": 45,
   "metadata": {},
   "outputs": [
    {
     "data": {
      "text/html": [
       "<div>\n",
       "<style scoped>\n",
       "    .dataframe tbody tr th:only-of-type {\n",
       "        vertical-align: middle;\n",
       "    }\n",
       "\n",
       "    .dataframe tbody tr th {\n",
       "        vertical-align: top;\n",
       "    }\n",
       "\n",
       "    .dataframe thead th {\n",
       "        text-align: right;\n",
       "    }\n",
       "</style>\n",
       "<table border=\"1\" class=\"dataframe\">\n",
       "  <thead>\n",
       "    <tr style=\"text-align: right;\">\n",
       "      <th></th>\n",
       "      <th>0</th>\n",
       "      <th>1</th>\n",
       "      <th>2</th>\n",
       "      <th>3</th>\n",
       "      <th>4</th>\n",
       "      <th>5</th>\n",
       "      <th>6</th>\n",
       "      <th>7</th>\n",
       "      <th>8</th>\n",
       "      <th>9</th>\n",
       "      <th>...</th>\n",
       "      <th>311</th>\n",
       "      <th>312</th>\n",
       "      <th>313</th>\n",
       "      <th>314</th>\n",
       "      <th>315</th>\n",
       "      <th>316</th>\n",
       "      <th>317</th>\n",
       "      <th>318</th>\n",
       "      <th>319</th>\n",
       "      <th>320</th>\n",
       "    </tr>\n",
       "  </thead>\n",
       "  <tbody>\n",
       "    <tr>\n",
       "      <th>0</th>\n",
       "      <td>0.245416</td>\n",
       "      <td>0.947486</td>\n",
       "      <td>0.819837</td>\n",
       "      <td>0.123394</td>\n",
       "      <td>0.971300</td>\n",
       "      <td>0.141929</td>\n",
       "      <td>0.895683</td>\n",
       "      <td>0.322284</td>\n",
       "      <td>0.270750</td>\n",
       "      <td>0.816746</td>\n",
       "      <td>...</td>\n",
       "      <td>0.667370</td>\n",
       "      <td>0.526558</td>\n",
       "      <td>0.831513</td>\n",
       "      <td>0.534536</td>\n",
       "      <td>0.573272</td>\n",
       "      <td>0.040701</td>\n",
       "      <td>0.802187</td>\n",
       "      <td>0.823923</td>\n",
       "      <td>0.879060</td>\n",
       "      <td>0.675052</td>\n",
       "    </tr>\n",
       "    <tr>\n",
       "      <th>1</th>\n",
       "      <td>0.503587</td>\n",
       "      <td>0.471148</td>\n",
       "      <td>0.261888</td>\n",
       "      <td>0.563336</td>\n",
       "      <td>0.766991</td>\n",
       "      <td>0.139280</td>\n",
       "      <td>0.193463</td>\n",
       "      <td>0.741136</td>\n",
       "      <td>0.505375</td>\n",
       "      <td>0.405997</td>\n",
       "      <td>...</td>\n",
       "      <td>0.997004</td>\n",
       "      <td>0.916135</td>\n",
       "      <td>0.962306</td>\n",
       "      <td>0.229011</td>\n",
       "      <td>0.707805</td>\n",
       "      <td>0.230250</td>\n",
       "      <td>0.579356</td>\n",
       "      <td>0.111939</td>\n",
       "      <td>0.397974</td>\n",
       "      <td>0.853760</td>\n",
       "    </tr>\n",
       "    <tr>\n",
       "      <th>2</th>\n",
       "      <td>0.937044</td>\n",
       "      <td>0.767122</td>\n",
       "      <td>0.310707</td>\n",
       "      <td>0.563299</td>\n",
       "      <td>0.730067</td>\n",
       "      <td>0.129702</td>\n",
       "      <td>0.596172</td>\n",
       "      <td>0.537027</td>\n",
       "      <td>0.479994</td>\n",
       "      <td>0.863421</td>\n",
       "      <td>...</td>\n",
       "      <td>0.150608</td>\n",
       "      <td>0.708061</td>\n",
       "      <td>0.908225</td>\n",
       "      <td>0.169163</td>\n",
       "      <td>0.102030</td>\n",
       "      <td>0.634371</td>\n",
       "      <td>0.755793</td>\n",
       "      <td>0.693824</td>\n",
       "      <td>0.803417</td>\n",
       "      <td>0.307525</td>\n",
       "    </tr>\n",
       "    <tr>\n",
       "      <th>3</th>\n",
       "      <td>0.067375</td>\n",
       "      <td>0.541807</td>\n",
       "      <td>0.759343</td>\n",
       "      <td>0.963729</td>\n",
       "      <td>0.728096</td>\n",
       "      <td>0.858265</td>\n",
       "      <td>0.128075</td>\n",
       "      <td>0.328419</td>\n",
       "      <td>0.825171</td>\n",
       "      <td>0.719240</td>\n",
       "      <td>...</td>\n",
       "      <td>0.375932</td>\n",
       "      <td>0.123028</td>\n",
       "      <td>0.965170</td>\n",
       "      <td>0.952102</td>\n",
       "      <td>0.649529</td>\n",
       "      <td>0.235943</td>\n",
       "      <td>0.632256</td>\n",
       "      <td>0.190850</td>\n",
       "      <td>0.796442</td>\n",
       "      <td>0.663809</td>\n",
       "    </tr>\n",
       "    <tr>\n",
       "      <th>4</th>\n",
       "      <td>0.558002</td>\n",
       "      <td>0.177920</td>\n",
       "      <td>0.022689</td>\n",
       "      <td>0.042749</td>\n",
       "      <td>0.749382</td>\n",
       "      <td>0.670890</td>\n",
       "      <td>0.456154</td>\n",
       "      <td>0.349217</td>\n",
       "      <td>0.864760</td>\n",
       "      <td>0.931226</td>\n",
       "      <td>...</td>\n",
       "      <td>0.988653</td>\n",
       "      <td>0.443519</td>\n",
       "      <td>0.794822</td>\n",
       "      <td>0.825149</td>\n",
       "      <td>0.969648</td>\n",
       "      <td>0.551354</td>\n",
       "      <td>0.796764</td>\n",
       "      <td>0.530980</td>\n",
       "      <td>0.912308</td>\n",
       "      <td>0.918759</td>\n",
       "    </tr>\n",
       "    <tr>\n",
       "      <th>5</th>\n",
       "      <td>0.205626</td>\n",
       "      <td>0.807572</td>\n",
       "      <td>0.030520</td>\n",
       "      <td>0.116450</td>\n",
       "      <td>0.510189</td>\n",
       "      <td>0.891306</td>\n",
       "      <td>0.053825</td>\n",
       "      <td>0.298206</td>\n",
       "      <td>0.144679</td>\n",
       "      <td>0.009940</td>\n",
       "      <td>...</td>\n",
       "      <td>0.725543</td>\n",
       "      <td>0.748750</td>\n",
       "      <td>0.028267</td>\n",
       "      <td>0.266078</td>\n",
       "      <td>0.037999</td>\n",
       "      <td>0.737965</td>\n",
       "      <td>0.769993</td>\n",
       "      <td>0.656894</td>\n",
       "      <td>0.908588</td>\n",
       "      <td>0.635543</td>\n",
       "    </tr>\n",
       "    <tr>\n",
       "      <th>6</th>\n",
       "      <td>0.984917</td>\n",
       "      <td>0.461137</td>\n",
       "      <td>0.750249</td>\n",
       "      <td>0.137763</td>\n",
       "      <td>0.041908</td>\n",
       "      <td>0.115933</td>\n",
       "      <td>0.966242</td>\n",
       "      <td>0.644473</td>\n",
       "      <td>0.764982</td>\n",
       "      <td>0.039374</td>\n",
       "      <td>...</td>\n",
       "      <td>0.992713</td>\n",
       "      <td>0.364870</td>\n",
       "      <td>0.928211</td>\n",
       "      <td>0.948772</td>\n",
       "      <td>0.958093</td>\n",
       "      <td>0.429827</td>\n",
       "      <td>0.719473</td>\n",
       "      <td>0.707029</td>\n",
       "      <td>0.764349</td>\n",
       "      <td>0.693359</td>\n",
       "    </tr>\n",
       "    <tr>\n",
       "      <th>7</th>\n",
       "      <td>0.206085</td>\n",
       "      <td>0.293305</td>\n",
       "      <td>0.133976</td>\n",
       "      <td>0.671586</td>\n",
       "      <td>0.447107</td>\n",
       "      <td>0.588011</td>\n",
       "      <td>0.539005</td>\n",
       "      <td>0.572644</td>\n",
       "      <td>0.583953</td>\n",
       "      <td>0.077748</td>\n",
       "      <td>...</td>\n",
       "      <td>0.124006</td>\n",
       "      <td>0.427135</td>\n",
       "      <td>0.345579</td>\n",
       "      <td>0.979830</td>\n",
       "      <td>0.336548</td>\n",
       "      <td>0.753046</td>\n",
       "      <td>0.021438</td>\n",
       "      <td>0.647060</td>\n",
       "      <td>0.533822</td>\n",
       "      <td>0.338875</td>\n",
       "    </tr>\n",
       "    <tr>\n",
       "      <th>8</th>\n",
       "      <td>0.249220</td>\n",
       "      <td>0.012320</td>\n",
       "      <td>0.211337</td>\n",
       "      <td>0.652188</td>\n",
       "      <td>0.621947</td>\n",
       "      <td>0.868592</td>\n",
       "      <td>0.038124</td>\n",
       "      <td>0.882273</td>\n",
       "      <td>0.374545</td>\n",
       "      <td>0.576490</td>\n",
       "      <td>...</td>\n",
       "      <td>0.047835</td>\n",
       "      <td>0.227715</td>\n",
       "      <td>0.219088</td>\n",
       "      <td>0.617449</td>\n",
       "      <td>0.857153</td>\n",
       "      <td>0.499940</td>\n",
       "      <td>0.920780</td>\n",
       "      <td>0.394100</td>\n",
       "      <td>0.983751</td>\n",
       "      <td>0.233034</td>\n",
       "    </tr>\n",
       "    <tr>\n",
       "      <th>9</th>\n",
       "      <td>0.532093</td>\n",
       "      <td>0.034866</td>\n",
       "      <td>0.003368</td>\n",
       "      <td>0.595922</td>\n",
       "      <td>0.936400</td>\n",
       "      <td>0.421194</td>\n",
       "      <td>0.449003</td>\n",
       "      <td>0.265156</td>\n",
       "      <td>0.370139</td>\n",
       "      <td>0.024130</td>\n",
       "      <td>...</td>\n",
       "      <td>0.760468</td>\n",
       "      <td>0.628410</td>\n",
       "      <td>0.726801</td>\n",
       "      <td>0.150114</td>\n",
       "      <td>0.252751</td>\n",
       "      <td>0.696484</td>\n",
       "      <td>0.079428</td>\n",
       "      <td>0.144010</td>\n",
       "      <td>0.430026</td>\n",
       "      <td>0.072912</td>\n",
       "    </tr>\n",
       "  </tbody>\n",
       "</table>\n",
       "<p>10 rows × 321 columns</p>\n",
       "</div>"
      ],
      "text/plain": [
       "        0         1         2         3         4         5         6    \\\n",
       "0  0.245416  0.947486  0.819837  0.123394  0.971300  0.141929  0.895683   \n",
       "1  0.503587  0.471148  0.261888  0.563336  0.766991  0.139280  0.193463   \n",
       "2  0.937044  0.767122  0.310707  0.563299  0.730067  0.129702  0.596172   \n",
       "3  0.067375  0.541807  0.759343  0.963729  0.728096  0.858265  0.128075   \n",
       "4  0.558002  0.177920  0.022689  0.042749  0.749382  0.670890  0.456154   \n",
       "5  0.205626  0.807572  0.030520  0.116450  0.510189  0.891306  0.053825   \n",
       "6  0.984917  0.461137  0.750249  0.137763  0.041908  0.115933  0.966242   \n",
       "7  0.206085  0.293305  0.133976  0.671586  0.447107  0.588011  0.539005   \n",
       "8  0.249220  0.012320  0.211337  0.652188  0.621947  0.868592  0.038124   \n",
       "9  0.532093  0.034866  0.003368  0.595922  0.936400  0.421194  0.449003   \n",
       "\n",
       "        7         8         9    ...       311       312       313       314  \\\n",
       "0  0.322284  0.270750  0.816746  ...  0.667370  0.526558  0.831513  0.534536   \n",
       "1  0.741136  0.505375  0.405997  ...  0.997004  0.916135  0.962306  0.229011   \n",
       "2  0.537027  0.479994  0.863421  ...  0.150608  0.708061  0.908225  0.169163   \n",
       "3  0.328419  0.825171  0.719240  ...  0.375932  0.123028  0.965170  0.952102   \n",
       "4  0.349217  0.864760  0.931226  ...  0.988653  0.443519  0.794822  0.825149   \n",
       "5  0.298206  0.144679  0.009940  ...  0.725543  0.748750  0.028267  0.266078   \n",
       "6  0.644473  0.764982  0.039374  ...  0.992713  0.364870  0.928211  0.948772   \n",
       "7  0.572644  0.583953  0.077748  ...  0.124006  0.427135  0.345579  0.979830   \n",
       "8  0.882273  0.374545  0.576490  ...  0.047835  0.227715  0.219088  0.617449   \n",
       "9  0.265156  0.370139  0.024130  ...  0.760468  0.628410  0.726801  0.150114   \n",
       "\n",
       "        315       316       317       318       319       320  \n",
       "0  0.573272  0.040701  0.802187  0.823923  0.879060  0.675052  \n",
       "1  0.707805  0.230250  0.579356  0.111939  0.397974  0.853760  \n",
       "2  0.102030  0.634371  0.755793  0.693824  0.803417  0.307525  \n",
       "3  0.649529  0.235943  0.632256  0.190850  0.796442  0.663809  \n",
       "4  0.969648  0.551354  0.796764  0.530980  0.912308  0.918759  \n",
       "5  0.037999  0.737965  0.769993  0.656894  0.908588  0.635543  \n",
       "6  0.958093  0.429827  0.719473  0.707029  0.764349  0.693359  \n",
       "7  0.336548  0.753046  0.021438  0.647060  0.533822  0.338875  \n",
       "8  0.857153  0.499940  0.920780  0.394100  0.983751  0.233034  \n",
       "9  0.252751  0.696484  0.079428  0.144010  0.430026  0.072912  \n",
       "\n",
       "[10 rows x 321 columns]"
      ]
     },
     "execution_count": 45,
     "metadata": {},
     "output_type": "execute_result"
    }
   ],
   "source": [
    "newdf.T # getting transpose of matrix"
   ]
  },
  {
   "cell_type": "code",
   "execution_count": 48,
   "metadata": {},
   "outputs": [
    {
     "data": {
      "text/plain": [
       "pandas.core.series.Series"
      ]
     },
     "execution_count": 48,
     "metadata": {},
     "output_type": "execute_result"
    }
   ],
   "source": [
    "newdf[0]\n",
    "type(newdf[0]) # series"
   ]
  },
  {
   "cell_type": "code",
   "execution_count": null,
   "metadata": {},
   "outputs": [],
   "source": []
  }
 ],
 "metadata": {
  "kernelspec": {
   "display_name": "Python 3",
   "language": "python",
   "name": "python3"
  },
  "language_info": {
   "codemirror_mode": {
    "name": "ipython",
    "version": 3
   },
   "file_extension": ".py",
   "mimetype": "text/x-python",
   "name": "python",
   "nbconvert_exporter": "python",
   "pygments_lexer": "ipython3",
   "version": "3.11.2"
  }
 },
 "nbformat": 4,
 "nbformat_minor": 2
}
